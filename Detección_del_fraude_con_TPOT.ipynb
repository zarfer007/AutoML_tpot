{
 "cells": [
  {
   "cell_type": "markdown",
   "metadata": {
    "id": "mQcobwEVHrUP"
   },
   "source": [
    "##1 Descarga de librerias"
   ]
  },
  {
   "cell_type": "code",
   "execution_count": 1,
   "metadata": {
    "colab": {
     "base_uri": "https://localhost:8080/"
    },
    "id": "3EvOVM2XE38m",
    "outputId": "0ad55cf6-810c-4467-baa8-57fe7dcc2f17"
   },
   "outputs": [
    {
     "name": "stdout",
     "output_type": "stream",
     "text": [
      "Requirement already satisfied: tpot in /Users/fernando/miniconda3/lib/python3.8/site-packages (0.11.6.post3)\n",
      "Requirement already satisfied: tqdm>=4.36.1 in /Users/fernando/miniconda3/lib/python3.8/site-packages (from tpot) (4.46.0)\n",
      "Requirement already satisfied: xgboost>=1.1.0 in /Users/fernando/miniconda3/lib/python3.8/site-packages (from tpot) (1.3.1)\n",
      "Requirement already satisfied: numpy>=1.16.3 in /Users/fernando/miniconda3/lib/python3.8/site-packages (from tpot) (1.19.2)\n",
      "Requirement already satisfied: pandas>=0.24.2 in /Users/fernando/miniconda3/lib/python3.8/site-packages (from tpot) (1.1.5)\n",
      "Requirement already satisfied: scipy>=1.3.1 in /Users/fernando/miniconda3/lib/python3.8/site-packages (from tpot) (1.5.2)\n",
      "Requirement already satisfied: stopit>=1.1.1 in /Users/fernando/miniconda3/lib/python3.8/site-packages (from tpot) (1.1.2)\n",
      "Requirement already satisfied: joblib>=0.13.2 in /Users/fernando/miniconda3/lib/python3.8/site-packages (from tpot) (1.0.0)\n",
      "Requirement already satisfied: update-checker>=0.16 in /Users/fernando/miniconda3/lib/python3.8/site-packages (from tpot) (0.18.0)\n",
      "Requirement already satisfied: scikit-learn>=0.22.0 in /Users/fernando/miniconda3/lib/python3.8/site-packages (from tpot) (0.23.2)\n",
      "Requirement already satisfied: deap>=1.2 in /Users/fernando/miniconda3/lib/python3.8/site-packages (from tpot) (1.3.1)\n",
      "Requirement already satisfied: python-dateutil>=2.7.3 in /Users/fernando/miniconda3/lib/python3.8/site-packages (from pandas>=0.24.2->tpot) (2.8.1)\n",
      "Requirement already satisfied: pytz>=2017.2 in /Users/fernando/miniconda3/lib/python3.8/site-packages (from pandas>=0.24.2->tpot) (2020.1)\n",
      "Requirement already satisfied: requests>=2.3.0 in /Users/fernando/miniconda3/lib/python3.8/site-packages (from update-checker>=0.16->tpot) (2.23.0)\n",
      "Requirement already satisfied: threadpoolctl>=2.0.0 in /Users/fernando/miniconda3/lib/python3.8/site-packages (from scikit-learn>=0.22.0->tpot) (2.1.0)\n",
      "Requirement already satisfied: six>=1.5 in /Users/fernando/miniconda3/lib/python3.8/site-packages (from python-dateutil>=2.7.3->pandas>=0.24.2->tpot) (1.14.0)\n",
      "Requirement already satisfied: idna<3,>=2.5 in /Users/fernando/miniconda3/lib/python3.8/site-packages (from requests>=2.3.0->update-checker>=0.16->tpot) (2.9)\n",
      "Requirement already satisfied: urllib3!=1.25.0,!=1.25.1,<1.26,>=1.21.1 in /Users/fernando/miniconda3/lib/python3.8/site-packages (from requests>=2.3.0->update-checker>=0.16->tpot) (1.25.8)\n",
      "Requirement already satisfied: certifi>=2017.4.17 in /Users/fernando/miniconda3/lib/python3.8/site-packages (from requests>=2.3.0->update-checker>=0.16->tpot) (2020.12.5)\n",
      "Requirement already satisfied: chardet<4,>=3.0.2 in /Users/fernando/miniconda3/lib/python3.8/site-packages (from requests>=2.3.0->update-checker>=0.16->tpot) (3.0.4)\n"
     ]
    }
   ],
   "source": [
    "!pip install tpot"
   ]
  },
  {
   "cell_type": "code",
   "execution_count": 2,
   "metadata": {
    "colab": {
     "base_uri": "https://localhost:8080/"
    },
    "id": "7gC0YMIoyXk9",
    "outputId": "7b76422b-fe59-45c9-ee4f-43fcfeeb2140"
   },
   "outputs": [
    {
     "name": "stdout",
     "output_type": "stream",
     "text": [
      "Requirement already up-to-date: dask in /Users/fernando/miniconda3/lib/python3.8/site-packages (2020.12.0)\n",
      "Requirement already up-to-date: distributed in /Users/fernando/miniconda3/lib/python3.8/site-packages (2020.12.0)\n",
      "Requirement already satisfied, skipping upgrade: pyyaml in /Users/fernando/miniconda3/lib/python3.8/site-packages (from dask) (5.3.1)\n",
      "Requirement already satisfied, skipping upgrade: sortedcontainers!=2.0.0,!=2.0.1 in /Users/fernando/miniconda3/lib/python3.8/site-packages (from distributed) (2.3.0)\n",
      "Requirement already satisfied, skipping upgrade: setuptools in /Users/fernando/miniconda3/lib/python3.8/site-packages (from distributed) (46.4.0.post20200518)\n",
      "Requirement already satisfied, skipping upgrade: toolz>=0.8.2 in /Users/fernando/miniconda3/lib/python3.8/site-packages (from distributed) (0.11.1)\n",
      "Requirement already satisfied, skipping upgrade: zict>=0.1.3 in /Users/fernando/miniconda3/lib/python3.8/site-packages (from distributed) (2.0.0)\n",
      "Requirement already satisfied, skipping upgrade: psutil>=5.0 in /Users/fernando/miniconda3/lib/python3.8/site-packages (from distributed) (5.8.0)\n",
      "Requirement already satisfied, skipping upgrade: tornado>=6.0.3; python_version >= \"3.8\" in /Users/fernando/miniconda3/lib/python3.8/site-packages (from distributed) (6.0.4)\n",
      "Requirement already satisfied, skipping upgrade: tblib>=1.6.0 in /Users/fernando/miniconda3/lib/python3.8/site-packages (from distributed) (1.7.0)\n",
      "Requirement already satisfied, skipping upgrade: msgpack>=0.6.0 in /Users/fernando/miniconda3/lib/python3.8/site-packages (from distributed) (1.0.2)\n",
      "Requirement already satisfied, skipping upgrade: click>=6.6 in /Users/fernando/miniconda3/lib/python3.8/site-packages (from distributed) (7.1.2)\n",
      "Requirement already satisfied, skipping upgrade: cloudpickle>=1.5.0 in /Users/fernando/miniconda3/lib/python3.8/site-packages (from distributed) (1.6.0)\n",
      "Requirement already satisfied, skipping upgrade: heapdict in /Users/fernando/miniconda3/lib/python3.8/site-packages (from zict>=0.1.3->distributed) (1.0.1)\n"
     ]
    }
   ],
   "source": [
    "!python -m pip install dask distributed --upgrade\n"
   ]
  },
  {
   "cell_type": "code",
   "execution_count": 3,
   "metadata": {
    "id": "cQJYEJUPESJ0"
   },
   "outputs": [],
   "source": [
    "import pandas as pd\n",
    "import numpy as np\n",
    "import seaborn as sns\n",
    "import matplotlib.pyplot as plt\n",
    "%matplotlib inline\n",
    "\n",
    "\n",
    "from sklearn.model_selection import train_test_split\n",
    "\n",
    "import time\n",
    "import tpot # Added library\n",
    "from tpot import TPOTClassifier"
   ]
  },
  {
   "cell_type": "markdown",
   "metadata": {
    "id": "yHdg9Xq_GMBN"
   },
   "source": [
    "## Data, original, groups"
   ]
  },
  {
   "cell_type": "markdown",
   "metadata": {
    "id": "ucukFlb7rnUS"
   },
   "source": [
    "### Reading kaggel data\n",
    "\n",
    "Github might be full if dowloading from it\n"
   ]
  },
  {
   "cell_type": "code",
   "execution_count": null,
   "metadata": {
    "id": "h2msLAz3hBAC"
   },
   "outputs": [],
   "source": [
    "# How to mount kaggle api in colab: \n",
    "# https://medium.com/analytics-vidhya/how-to-fetch-kaggle-datasets-into-google-colab-ea682569851a \n",
    "from google.colab import drive\n",
    "drive.mount('/content/gdrive')"
   ]
  },
  {
   "cell_type": "code",
   "execution_count": null,
   "metadata": {
    "id": "YkkYzUUShTCy"
   },
   "outputs": [],
   "source": [
    "import os\n",
    "os.environ['KAGGLE_CONFIG_DIR'] = \"/content/gdrive/My Drive/Kaggle\"\n",
    "# /content/gdrive/My Drive/Kaggle is the path where kaggle.json is present in the Google Drive\n",
    "\n",
    "#changing the working directory\n",
    "%cd /content/gdrive/My Drive/Kaggle\n",
    "#Check the present working directory using pwd command"
   ]
  },
  {
   "cell_type": "code",
   "execution_count": null,
   "metadata": {
    "id": "opegr-sjngy1"
   },
   "outputs": [],
   "source": [
    "!kaggle datasets download -d mlg-ulb/creditcardfraud\n",
    "!ls"
   ]
  },
  {
   "cell_type": "code",
   "execution_count": null,
   "metadata": {
    "id": "ERnPtDQxqFD8"
   },
   "outputs": [],
   "source": [
    "#unzipping the zip files and deleting the zip files\n",
    "!unzip \\*.zip  && rm *.zip"
   ]
  },
  {
   "cell_type": "code",
   "execution_count": null,
   "metadata": {
    "colab": {
     "base_uri": "https://localhost:8080/"
    },
    "id": "uvH2BpUEvl2b",
    "outputId": "17035add-0975-4631-f0f1-a9607ff8991f"
   },
   "outputs": [],
   "source": [
    "#Reading the file\n",
    "df= pd.read_csv('/content/gdrive/My Drive/Kaggle/creditcard.csv')\n",
    "df.shape"
   ]
  },
  {
   "cell_type": "markdown",
   "metadata": {
    "id": "sx6r-selsA3Z"
   },
   "source": [
    "## Reading from own linkry\n"
   ]
  },
  {
   "cell_type": "code",
   "execution_count": 4,
   "metadata": {
    "colab": {
     "base_uri": "https://localhost:8080/",
     "height": 156
    },
    "id": "ksh46mEBGi7I",
    "outputId": "1b254bba-578e-4f2c-8ddb-3a60f537af4c"
   },
   "outputs": [
    {
     "data": {
      "text/html": [
       "<div>\n",
       "<style scoped>\n",
       "    .dataframe tbody tr th:only-of-type {\n",
       "        vertical-align: middle;\n",
       "    }\n",
       "\n",
       "    .dataframe tbody tr th {\n",
       "        vertical-align: top;\n",
       "    }\n",
       "\n",
       "    .dataframe thead th {\n",
       "        text-align: right;\n",
       "    }\n",
       "</style>\n",
       "<table border=\"1\" class=\"dataframe\">\n",
       "  <thead>\n",
       "    <tr style=\"text-align: right;\">\n",
       "      <th></th>\n",
       "      <th>Time</th>\n",
       "      <th>V1</th>\n",
       "      <th>V2</th>\n",
       "      <th>V3</th>\n",
       "      <th>V4</th>\n",
       "      <th>V5</th>\n",
       "      <th>V6</th>\n",
       "      <th>V7</th>\n",
       "      <th>V8</th>\n",
       "      <th>V9</th>\n",
       "      <th>...</th>\n",
       "      <th>V21</th>\n",
       "      <th>V22</th>\n",
       "      <th>V23</th>\n",
       "      <th>V24</th>\n",
       "      <th>V25</th>\n",
       "      <th>V26</th>\n",
       "      <th>V27</th>\n",
       "      <th>V28</th>\n",
       "      <th>Amount</th>\n",
       "      <th>Class</th>\n",
       "    </tr>\n",
       "  </thead>\n",
       "  <tbody>\n",
       "    <tr>\n",
       "      <th>0</th>\n",
       "      <td>0.0</td>\n",
       "      <td>-1.359807</td>\n",
       "      <td>-0.072781</td>\n",
       "      <td>2.536347</td>\n",
       "      <td>1.378155</td>\n",
       "      <td>-0.338321</td>\n",
       "      <td>0.462388</td>\n",
       "      <td>0.239599</td>\n",
       "      <td>0.098698</td>\n",
       "      <td>0.363787</td>\n",
       "      <td>...</td>\n",
       "      <td>-0.018307</td>\n",
       "      <td>0.277838</td>\n",
       "      <td>-0.110474</td>\n",
       "      <td>0.066928</td>\n",
       "      <td>0.128539</td>\n",
       "      <td>-0.189115</td>\n",
       "      <td>0.133558</td>\n",
       "      <td>-0.021053</td>\n",
       "      <td>149.62</td>\n",
       "      <td>0</td>\n",
       "    </tr>\n",
       "    <tr>\n",
       "      <th>1</th>\n",
       "      <td>0.0</td>\n",
       "      <td>1.191857</td>\n",
       "      <td>0.266151</td>\n",
       "      <td>0.166480</td>\n",
       "      <td>0.448154</td>\n",
       "      <td>0.060018</td>\n",
       "      <td>-0.082361</td>\n",
       "      <td>-0.078803</td>\n",
       "      <td>0.085102</td>\n",
       "      <td>-0.255425</td>\n",
       "      <td>...</td>\n",
       "      <td>-0.225775</td>\n",
       "      <td>-0.638672</td>\n",
       "      <td>0.101288</td>\n",
       "      <td>-0.339846</td>\n",
       "      <td>0.167170</td>\n",
       "      <td>0.125895</td>\n",
       "      <td>-0.008983</td>\n",
       "      <td>0.014724</td>\n",
       "      <td>2.69</td>\n",
       "      <td>0</td>\n",
       "    </tr>\n",
       "    <tr>\n",
       "      <th>2</th>\n",
       "      <td>1.0</td>\n",
       "      <td>-1.358354</td>\n",
       "      <td>-1.340163</td>\n",
       "      <td>1.773209</td>\n",
       "      <td>0.379780</td>\n",
       "      <td>-0.503198</td>\n",
       "      <td>1.800499</td>\n",
       "      <td>0.791461</td>\n",
       "      <td>0.247676</td>\n",
       "      <td>-1.514654</td>\n",
       "      <td>...</td>\n",
       "      <td>0.247998</td>\n",
       "      <td>0.771679</td>\n",
       "      <td>0.909412</td>\n",
       "      <td>-0.689281</td>\n",
       "      <td>-0.327642</td>\n",
       "      <td>-0.139097</td>\n",
       "      <td>-0.055353</td>\n",
       "      <td>-0.059752</td>\n",
       "      <td>378.66</td>\n",
       "      <td>0</td>\n",
       "    </tr>\n",
       "  </tbody>\n",
       "</table>\n",
       "<p>3 rows × 31 columns</p>\n",
       "</div>"
      ],
      "text/plain": [
       "   Time        V1        V2        V3        V4        V5        V6        V7  \\\n",
       "0   0.0 -1.359807 -0.072781  2.536347  1.378155 -0.338321  0.462388  0.239599   \n",
       "1   0.0  1.191857  0.266151  0.166480  0.448154  0.060018 -0.082361 -0.078803   \n",
       "2   1.0 -1.358354 -1.340163  1.773209  0.379780 -0.503198  1.800499  0.791461   \n",
       "\n",
       "         V8        V9  ...       V21       V22       V23       V24       V25  \\\n",
       "0  0.098698  0.363787  ... -0.018307  0.277838 -0.110474  0.066928  0.128539   \n",
       "1  0.085102 -0.255425  ... -0.225775 -0.638672  0.101288 -0.339846  0.167170   \n",
       "2  0.247676 -1.514654  ...  0.247998  0.771679  0.909412 -0.689281 -0.327642   \n",
       "\n",
       "        V26       V27       V28  Amount  Class  \n",
       "0 -0.189115  0.133558 -0.021053  149.62      0  \n",
       "1  0.125895 -0.008983  0.014724    2.69      0  \n",
       "2 -0.139097 -0.055353 -0.059752  378.66      0  \n",
       "\n",
       "[3 rows x 31 columns]"
      ]
     },
     "execution_count": 4,
     "metadata": {},
     "output_type": "execute_result"
    }
   ],
   "source": [
    "#df = pd.read_csv('/content/creditcard.csv') # Emilio's link\n",
    "df = pd.read_csv('~/Desktop/AutoML/creditcard.csv') # Fernando's link\n",
    "df.head(3)"
   ]
  },
  {
   "cell_type": "code",
   "execution_count": 5,
   "metadata": {
    "colab": {
     "base_uri": "https://localhost:8080/"
    },
    "id": "lsPwq96zXH3D",
    "outputId": "aeb59b78-0b34-4ff9-b442-770e4a4c915b"
   },
   "outputs": [
    {
     "name": "stderr",
     "output_type": "stream",
     "text": [
      "/Users/fernando/miniconda3/lib/python3.8/site-packages/pandas/core/series.py:726: RuntimeWarning: divide by zero encountered in log\n",
      "  result = getattr(ufunc, method)(*inputs, **kwargs)\n"
     ]
    }
   ],
   "source": [
    "# In order to compare amounts regarding their relative sizes\n",
    "#display(df['Amount'].isnull().sum()) # none\n",
    "df['Amount']= (np.log(df['Amount'])).replace([np.inf, -np.inf], np.nan)\n",
    "\n",
    "fraudulent_data = df.loc[df['Class'] == 1]\n",
    "nonfraudulent_data = df.loc[df['Class'] == 0]"
   ]
  },
  {
   "cell_type": "markdown",
   "metadata": {
    "id": "Hns25nS6H0fp"
   },
   "source": [
    "#2. Exploración de los datos"
   ]
  },
  {
   "cell_type": "code",
   "execution_count": null,
   "metadata": {
    "colab": {
     "base_uri": "https://localhost:8080/",
     "height": 426
    },
    "id": "OIgc1qVmImQZ",
    "outputId": "09fd3a6f-cdea-499f-e4c5-6b7047080f8a"
   },
   "outputs": [],
   "source": [
    "print('Groups and types',\n",
    "      f'shape: {df.shape}',\n",
    "      f'dtypes_aggregate: {df.dtypes.value_counts()}',\n",
    "      f'fraud cases: {df.Class.sum()}',\n",
    "      f'fraud cases (rate): {df.Class.sum()/df.shape[0]*100}',\n",
    "      )\n",
    "\n",
    "# There no duplicates\n",
    "display(df.shape)\n",
    "df.drop_duplicates()\n",
    "display(df.shape)\n",
    "\n",
    "print('How the infinites of log of Amount was distributed between groups')\n",
    "display(df['Amount'].isna().sum(),\n",
    "        fraudulent_data['Amount'].isna().sum(),\n",
    "        nonfraudulent_data['Amount'].isna().sum())\n",
    "\n",
    "display(df.head(3))\n",
    "display(df.tail(3))\n"
   ]
  },
  {
   "cell_type": "code",
   "execution_count": null,
   "metadata": {
    "colab": {
     "base_uri": "https://localhost:8080/",
     "height": 838
    },
    "id": "Fgi7OF3GE0mq",
    "outputId": "2019b2b5-e847-496c-d289-bd1976e29c1c"
   },
   "outputs": [],
   "source": [
    "display(df.describe(),\n",
    "        fraudulent_data.describe(), nonfraudulent_data.describe())"
   ]
  },
  {
   "cell_type": "code",
   "execution_count": null,
   "metadata": {
    "colab": {
     "base_uri": "https://localhost:8080/",
     "height": 375
    },
    "id": "SFa4GWD5Ig-c",
    "outputId": "3c03fd25-07c2-441b-bc0d-5c933ec1b235"
   },
   "outputs": [],
   "source": [
    "# Multimodal (more modes for non-fraudulent data) and few highly values \n",
    "plt.figure(figsize=(18,6))\n",
    "#sns.kdeplot(df['Amount'], shade=True, color=\"r\")\n",
    "sns.kdeplot(fraudulent_data['Amount'], shade=True, color=\"r\")\n",
    "sns.kdeplot(nonfraudulent_data['Amount'], shade=True, color=\"b\")\n",
    "\n",
    "plt.show()"
   ]
  },
  {
   "cell_type": "code",
   "execution_count": null,
   "metadata": {
    "colab": {
     "base_uri": "https://localhost:8080/",
     "height": 737
    },
    "id": "ej92c8elu3NI",
    "outputId": "d6e63e16-0259-4b5d-84ff-26259ac209ad"
   },
   "outputs": [],
   "source": [
    "plt.figure(figsize=(16,10))\n",
    "plot = sns.distplot(a=df[\"Time\"], kde=True, color='brown')\n",
    "plot = sns.distplot(a=fraudulent_data[\"Time\"], kde=True, color='purple')\n",
    "plot = sns.distplot(a=nonfraudulent_data[\"Time\"], kde=True, color='blue')\n",
    "\n",
    "plot.set(xlabel ='Time', ylabel ='Frequency')\n",
    "plt.show()"
   ]
  },
  {
   "cell_type": "code",
   "execution_count": null,
   "metadata": {
    "colab": {
     "base_uri": "https://localhost:8080/",
     "height": 1000
    },
    "id": "7WFjspDGN5Vg",
    "outputId": "0fd19c7f-fc9a-48f2-ecc4-7e71a656cff0"
   },
   "outputs": [],
   "source": [
    "# Correlation between groups differs sharply\n",
    "df_corr = {}\n",
    "df_corr[\"correlation\"] =abs(df.corr()['Amount']).sort_values(ascending=False)\n",
    "df_corr[\"correlation_fraud\"] =abs(fraudulent_data.corr()['Amount']).sort_values(ascending=False)\n",
    "df_corr[\"correlation_nonfraud\"] =abs(nonfraudulent_data.corr()['Amount']).sort_values(ascending=False)\n",
    "display(df_corr)\n",
    "df_corr= pd.DataFrame(df_corr)\n",
    "df_corr"
   ]
  },
  {
   "cell_type": "code",
   "execution_count": null,
   "metadata": {
    "colab": {
     "base_uri": "https://localhost:8080/",
     "height": 399
    },
    "id": "FWvqSZ5QhDX-",
    "outputId": "680f0248-7942-4951-8511-99735a4e9380"
   },
   "outputs": [],
   "source": [
    "# Fraud variables more correlated than nonfraud variables\n",
    "\n",
    "f,(ax1,ax2,ax3, axcb) = plt.subplots(1,4, \n",
    "            gridspec_kw={'width_ratios':[1,1,1,0.08]}, figsize=(18,6))\n",
    "ax1.get_shared_y_axes().join(ax2,ax3)\n",
    "g1 = sns.heatmap(df.corr(),cmap=\"YlGnBu\",cbar=False,ax=ax1)\n",
    "g1.set_ylabel('')\n",
    "g1.set_xlabel('All')\n",
    "g2 = sns.heatmap(fraudulent_data.corr(),cmap=\"YlGnBu\",cbar=False,ax=ax2)\n",
    "g2.set_ylabel('')\n",
    "g2.set_xlabel('Fraud')\n",
    "g2.set_yticks([])\n",
    "g3 = sns.heatmap(nonfraudulent_data.corr(),cmap=\"YlGnBu\",ax=ax3, cbar_ax=axcb)\n",
    "g3.set_ylabel('')\n",
    "g3.set_xlabel('Non-Fraud')\n",
    "g3.set_yticks([])"
   ]
  },
  {
   "cell_type": "code",
   "execution_count": null,
   "metadata": {
    "colab": {
     "base_uri": "https://localhost:8080/",
     "height": 711
    },
    "id": "ZIAK1dyDzaaV",
    "outputId": "f5b50788-6869-4dfb-eb4a-adecc1c36877"
   },
   "outputs": [],
   "source": [
    "\n",
    "plt.figure(figsize=(18,12))\n",
    "sns.scatterplot(x=df[\"Time\"], y=df[\"Amount\"], hue=df[\"Class\"], size=df[\"Class\"], sizes=(40, 8), marker=\"+\")\n",
    "# day night up down"
   ]
  },
  {
   "cell_type": "code",
   "execution_count": null,
   "metadata": {
    "colab": {
     "base_uri": "https://localhost:8080/",
     "height": 623
    },
    "id": "1bBZWArozanR",
    "outputId": "77c15727-e228-4d0b-ad5e-6b1f3af3bafd"
   },
   "outputs": [],
   "source": [
    "plt.figure(figsize=(16,10))\n",
    "sns.scatterplot(x=fraudulent_data[\"Time\"], y=fraudulent_data[\"Amount\"], sizes=(40, 8), marker=\"+\")\n",
    "sns.scatterplot(x=nonfraudulent_data[\"Time\"], y=nonfraudulent_data[\"Amount\"], sizes=(40, 8), marker=\"+\")\n"
   ]
  },
  {
   "cell_type": "code",
   "execution_count": null,
   "metadata": {
    "colab": {
     "base_uri": "https://localhost:8080/",
     "height": 1000
    },
    "id": "76Ya8ooAuO0i",
    "outputId": "ce6bca3b-a1df-47ef-c30c-b70f5abc19a7"
   },
   "outputs": [],
   "source": [
    "plt.boxplot ([df['V1'], df['V2'], df['V3'], df['V4'], df['V5'], df['V6'], df['V7'], df['V8'], df['V9'], df['V10']])"
   ]
  },
  {
   "cell_type": "code",
   "execution_count": null,
   "metadata": {
    "colab": {
     "base_uri": "https://localhost:8080/",
     "height": 1000
    },
    "id": "BrBer_4pNImY",
    "outputId": "77ab3355-8ef0-433b-dd38-113f31fbfcd1"
   },
   "outputs": [],
   "source": [
    "plt.boxplot ([df['V11'], df['V12'], df['V13'], df['V14'], df['V15'], df['V16'], df['V17'], df['V18'], df['V19'], df['V20']])\n"
   ]
  },
  {
   "cell_type": "code",
   "execution_count": null,
   "metadata": {
    "colab": {
     "base_uri": "https://localhost:8080/",
     "height": 1000
    },
    "id": "VEzmtjjkk0Or",
    "outputId": "bb2d680d-16c6-40ce-d6e1-8ae88281f97a"
   },
   "outputs": [],
   "source": [
    "plt.boxplot ([df['V21'], df['V22'], df['V23'], df['V24'], df['V25'], df['V26'], df['V27'], df['V28']])"
   ]
  },
  {
   "cell_type": "code",
   "execution_count": null,
   "metadata": {
    "id": "2BwZppwsL2FA"
   },
   "outputs": [],
   "source": []
  },
  {
   "cell_type": "code",
   "execution_count": null,
   "metadata": {
    "id": "0dTUj7_hNaO7"
   },
   "outputs": [],
   "source": []
  },
  {
   "cell_type": "markdown",
   "metadata": {
    "id": "0_HhiKX1sRxi"
   },
   "source": [
    "# Parametrización de TPOT\n",
    "\n",
    "TPOT cuenta con parámetros propios de los algoritmos genéticos. Estos resultan clave para la determinación del tiempo necesario para encontrar el pipeline que mejor ajuste al problema, como asi también la convergencia a una solución global.\n",
    "\n"
   ]
  },
  {
   "cell_type": "markdown",
   "metadata": {
    "id": "WQU0I729tVH-"
   },
   "source": [
    "## Parámetros de los algoritmos genéticos.\n",
    "\n",
    "* **generations**: Es el número de iteraciones que repite el proceso de optimización del pipeline. El valor por defecto es de 100.\n",
    "\n",
    "\n",
    "\n",
    "* **population_size:** int, optional (default=100)\n",
    "Número de 'individuos' (soluciones) que se retienen de la poblacion de cada generación en la que corre el proceso.\n",
    "Generally, TPOT will work better when you give it more individuals with which to optimize the pipeline.\n",
    "\n",
    "* **offspring_size:** int, optional (default=None)\n",
    "Número de 'offspring' (crías) que se producen en cada generación. Por defecto, es igual al numero de *population_size*.\n",
    "\n",
    "* **mutation_rate:** float, optional (default=0.9)\n",
    "Indica a que proporción de pipelines se le aplica modificaciones aleatorias en cada generación.\n",
    "\n",
    "mutation_rate + crossover_rate no puede exceder 1.0.\n",
    "\n",
    "\n",
    "* **crossover_rate:** float, optional (default=0.1)\n",
    "Crossover rate for the genetic programming algorithm in the range [0.0, 1.0]. Indica qué proporción de pipelines se 'crían' en cada generación.\n",
    "\n",
    "mutation_rate + crossover_rate cannot exceed 1.0.\n",
    "\n",
    "Se recomienda dejar los valores por defecto si no se conocen los algoritmos genéticos.\n",
    "\n",
    "La cantidad de pipelines va a estar determinada por: population_size + (generations * offspring_size).\n",
    "\n",
    "En este caso establecemos 5 generaciones y dejamos el resto de las valiables en sus valores por defecto, por lo que tpot evaluará 600 pipelines"
   ]
  },
  {
   "cell_type": "markdown",
   "metadata": {
    "id": "kY6uCYt6_awf"
   },
   "source": [
    "## Algunos otros parámetros de TPOT\n",
    "\n",
    "* **scoring** : métrica utilizada para evaluar el ajuste del pipeline. En nuetro caso utilizamos 'f1' ya que trabajamos con un dataset altamente desbalanceado y de clasificación binaria.\n",
    "\n",
    "* **cv**: Esquema de cross-validation para evaluar los pipelines. Dejamos el valor por defecto (5 carpetas).\n",
    "\n",
    "* **subsamle** : Fracción de datos que se entrena en cada pipeline. Dejamos el valor por defecto (1.0).\n",
    "\n",
    "* **max_time_mins**: Indica en cuántos minutos TPOT debe optimizar el pipeline. No establecemos ningún valor, permitiendo que TPOT corra el tiempo necesario.\n",
    "\n",
    "* **max_eval_time_mins**: Indica el tiempo que tiene TPOT para evaluar un pipeline. Previene grandes pérdidas de tiempo, con la desventaja de dejar de lado pipelines mas complejos. Dejamos el valor por defecto de 5 minutos.\n",
    "\n"
   ]
  },
  {
   "cell_type": "code",
   "execution_count": 6,
   "metadata": {
    "colab": {
     "base_uri": "https://localhost:8080/",
     "height": 538
    },
    "id": "jNCdh5j5DBgv",
    "outputId": "b42eb22b-1cfa-4654-c380-53057d4d22e9"
   },
   "outputs": [
    {
     "data": {
      "text/plain": [
       "Time      0\n",
       "V1        0\n",
       "V2        0\n",
       "V3        0\n",
       "V4        0\n",
       "V5        0\n",
       "V6        0\n",
       "V7        0\n",
       "V8        0\n",
       "V9        0\n",
       "V10       0\n",
       "V11       0\n",
       "V12       0\n",
       "V13       0\n",
       "V14       0\n",
       "V15       0\n",
       "V16       0\n",
       "V17       0\n",
       "V18       0\n",
       "V19       0\n",
       "V20       0\n",
       "V21       0\n",
       "V22       0\n",
       "V23       0\n",
       "V24       0\n",
       "V25       0\n",
       "V26       0\n",
       "V27       0\n",
       "V28       0\n",
       "Amount    0\n",
       "dtype: int64"
      ]
     },
     "metadata": {},
     "output_type": "display_data"
    }
   ],
   "source": [
    "#Separamos la variable objetivo del dataset\n",
    "df = df.dropna()\n",
    "target = df.Class\n",
    "df = df.drop(['Class'], axis=1)\n",
    "display(df.isna().sum())\n"
   ]
  },
  {
   "cell_type": "code",
   "execution_count": 7,
   "metadata": {
    "id": "vTGoThnmtAjU"
   },
   "outputs": [],
   "source": [
    "#Generamos los set de entrenamiento y test.\n",
    "from sklearn.model_selection import train_test_split\n",
    "x_train, x_test, y_train, y_test = train_test_split(df, target, stratify=target)"
   ]
  },
  {
   "cell_type": "code",
   "execution_count": 8,
   "metadata": {
    "id": "xolecPTBCwwN"
   },
   "outputs": [],
   "source": [
    "#Generamos el pipeline\n",
    "\n",
    "tpot = TPOTClassifier(generations=5, population_size=100,\n",
    "                          offspring_size=None, mutation_rate=0.9,\n",
    "                          crossover_rate=0.1,\n",
    "                          scoring='f1', cv=5,\n",
    "                          subsample=1.0, n_jobs=1,\n",
    "                          max_time_mins=None, max_eval_time_mins=5,\n",
    "                          random_state=43, config_dict=None,\n",
    "                          warm_start=False,\n",
    "                          memory=None,\n",
    "                          periodic_checkpoint_folder=None,\n",
    "                          early_stop=None,\n",
    "                          verbosity=3,\n",
    "                          disable_update_check=False)"
   ]
  },
  {
   "cell_type": "code",
   "execution_count": null,
   "metadata": {},
   "outputs": [],
   "source": [
    "\n"
   ]
  },
  {
   "cell_type": "code",
   "execution_count": null,
   "metadata": {},
   "outputs": [],
   "source": []
  },
  {
   "cell_type": "code",
   "execution_count": null,
   "metadata": {
    "colab": {
     "base_uri": "https://localhost:8080/",
     "height": 1000,
     "referenced_widgets": [
      "94a155f25da1482d8e44e0605cf4d245",
      "b5f29321d0734f16ba8ff48187b07ae0",
      "663f65276ff64eed981c7fb64b94c38a",
      "7914a2bfd9b64f98be164697d5366df0",
      "96ea7776df5e411ca200fa02af043b40",
      "f97773e2d47a4f3eb73a62d9f3352713",
      "cca52f2cf17d4006a5b06ac17eb38ca3",
      "d93c52b338f3438b8c64c85b039a3481"
     ]
    },
    "id": "ilsxYRUGDlJE",
    "outputId": "44f6f4ec-861b-4548-9c2f-5e0a8059c1ec",
    "scrolled": true
   },
   "outputs": [
    {
     "name": "stdout",
     "output_type": "stream",
     "text": [
      "32 operators have been imported by TPOT.\n"
     ]
    },
    {
     "data": {
      "application/vnd.jupyter.widget-view+json": {
       "model_id": "cd995e9cad39416399c6c5a252254688",
       "version_major": 2,
       "version_minor": 0
      },
      "text/plain": [
       "HBox(children=(FloatProgress(value=0.0, description='Optimization Progress', max=600.0, style=ProgressStyle(de…"
      ]
     },
     "metadata": {},
     "output_type": "display_data"
    },
    {
     "name": "stdout",
     "output_type": "stream",
     "text": [
      "Skipped pipeline #10 due to time out. Continuing to the next pipeline.\n",
      "Skipped pipeline #15 due to time out. Continuing to the next pipeline.\n",
      "Skipped pipeline #18 due to time out. Continuing to the next pipeline.\n",
      "Skipped pipeline #29 due to time out. Continuing to the next pipeline.\n",
      "Skipped pipeline #31 due to time out. Continuing to the next pipeline.\n",
      "Skipped pipeline #35 due to time out. Continuing to the next pipeline.\n",
      "Skipped pipeline #37 due to time out. Continuing to the next pipeline.\n",
      "Skipped pipeline #40 due to time out. Continuing to the next pipeline.\n",
      "Skipped pipeline #42 due to time out. Continuing to the next pipeline.\n",
      "Skipped pipeline #46 due to time out. Continuing to the next pipeline.\n",
      "Skipped pipeline #53 due to time out. Continuing to the next pipeline.\n",
      "Skipped pipeline #65 due to time out. Continuing to the next pipeline.\n",
      "Skipped pipeline #70 due to time out. Continuing to the next pipeline.\n",
      "Skipped pipeline #73 due to time out. Continuing to the next pipeline.\n",
      "Skipped pipeline #93 due to time out. Continuing to the next pipeline.\n",
      "Skipped pipeline #95 due to time out. Continuing to the next pipeline.\n",
      "Skipped pipeline #99 due to time out. Continuing to the next pipeline.\n",
      "Skipped pipeline #107 due to time out. Continuing to the next pipeline.\n",
      "Skipped pipeline #112 due to time out. Continuing to the next pipeline.\n",
      "Skipped pipeline #114 due to time out. Continuing to the next pipeline.\n",
      "Skipped pipeline #120 due to time out. Continuing to the next pipeline.\n",
      "_pre_test decorator: _random_mutation_operator: num_test=0 '(slice(None, None, None), 0)' is an invalid key.\n",
      "_pre_test decorator: _random_mutation_operator: num_test=0 Found array with 0 feature(s) (shape=(50, 0)) while a minimum of 1 is required..\n",
      "_pre_test decorator: _random_mutation_operator: num_test=0 Negative values in data passed to MultinomialNB (input X).\n",
      "_pre_test decorator: _random_mutation_operator: num_test=0 Expected n_neighbors <= n_samples,  but n_samples = 50, n_neighbors = 84.\n",
      "_pre_test decorator: _random_mutation_operator: num_test=0 Negative values in data passed to MultinomialNB (input X).\n",
      "_pre_test decorator: _random_mutation_operator: num_test=1 Negative values in data passed to MultinomialNB (input X).\n",
      "_pre_test decorator: _random_mutation_operator: num_test=0 Solver lbfgs supports only 'l2' or 'none' penalties, got l1 penalty..\n",
      "_pre_test decorator: _random_mutation_operator: num_test=0 feature_names mismatch: ['Time', 'V1', 'V2', 'V3', 'V4', 'V5', 'V6', 'V7', 'V8', 'V9', 'V10', 'V11', 'V12', 'V13', 'V14', 'V15', 'V16', 'V17', 'V18', 'V19', 'V20', 'V21', 'V22', 'V23', 'V24', 'V25', 'V26', 'V27', 'V28', 'Amount'] ['f0', 'f1', 'f2', 'f3', 'f4', 'f5', 'f6', 'f7', 'f8', 'f9', 'f10', 'f11', 'f12', 'f13', 'f14', 'f15', 'f16', 'f17', 'f18', 'f19', 'f20', 'f21', 'f22', 'f23', 'f24', 'f25', 'f26', 'f27', 'f28', 'f29']\n",
      "expected V5, V18, V26, V4, V20, V6, Amount, V1, V13, V3, V8, V15, V21, V9, V11, V12, V14, V25, V16, V7, V2, Time, V23, V22, V10, V28, V24, V27, V19, V17 in input data\n",
      "training data did not have the following fields: f13, f1, f18, f21, f11, f26, f25, f4, f19, f0, f8, f9, f6, f24, f3, f20, f23, f2, f27, f12, f28, f16, f15, f29, f7, f14, f5, f10, f22, f17.\n",
      "_pre_test decorator: _random_mutation_operator: num_test=0 Found array with 0 feature(s) (shape=(50, 0)) while a minimum of 2 is required..\n",
      "_pre_test decorator: _random_mutation_operator: num_test=0 Solver lbfgs supports only dual=False, got dual=True.\n",
      "_pre_test decorator: _random_mutation_operator: num_test=0 Unsupported set of arguments: The combination of penalty='l1' and loss='hinge' is not supported, Parameters: penalty='l1', loss='hinge', dual=False.\n",
      "_pre_test decorator: _random_mutation_operator: num_test=1 manhattan was provided as affinity. Ward can only work with euclidean distances..\n",
      "_pre_test decorator: _random_mutation_operator: num_test=0 Expected n_neighbors <= n_samples,  but n_samples = 50, n_neighbors = 96.\n",
      "_pre_test decorator: _random_mutation_operator: num_test=0 Negative values in data passed to MultinomialNB (input X).\n",
      "_pre_test decorator: _random_mutation_operator: num_test=0 Solver lbfgs supports only 'l2' or 'none' penalties, got l1 penalty..\n",
      "_pre_test decorator: _random_mutation_operator: num_test=1 Unsupported set of arguments: The combination of penalty='l1' and loss='squared_hinge' are not supported when dual=True, Parameters: penalty='l1', loss='squared_hinge', dual=True.\n",
      "_pre_test decorator: _random_mutation_operator: num_test=0 '(slice(None, None, None), 0)' is an invalid key.\n",
      "_pre_test decorator: _random_mutation_operator: num_test=0 Negative values in data passed to MultinomialNB (input X).\n",
      "Skipped pipeline #129 due to time out. Continuing to the next pipeline.\n",
      "Skipped pipeline #133 due to time out. Continuing to the next pipeline.\n",
      "Skipped pipeline #141 due to time out. Continuing to the next pipeline.\n",
      "Skipped pipeline #145 due to time out. Continuing to the next pipeline.\n",
      "Skipped pipeline #147 due to time out. Continuing to the next pipeline.\n",
      "Skipped pipeline #150 due to time out. Continuing to the next pipeline.\n",
      "Skipped pipeline #153 due to time out. Continuing to the next pipeline.\n",
      "Skipped pipeline #155 due to time out. Continuing to the next pipeline.\n",
      "Skipped pipeline #164 due to time out. Continuing to the next pipeline.\n",
      "Skipped pipeline #166 due to time out. Continuing to the next pipeline.\n",
      "Skipped pipeline #171 due to time out. Continuing to the next pipeline.\n",
      "Skipped pipeline #173 due to time out. Continuing to the next pipeline.\n",
      "Skipped pipeline #181 due to time out. Continuing to the next pipeline.\n",
      "Skipped pipeline #188 due to time out. Continuing to the next pipeline.\n",
      "Skipped pipeline #191 due to time out. Continuing to the next pipeline.\n",
      "Skipped pipeline #201 due to time out. Continuing to the next pipeline.\n",
      "Skipped pipeline #203 due to time out. Continuing to the next pipeline.\n",
      "Skipped pipeline #212 due to time out. Continuing to the next pipeline.\n",
      "Skipped pipeline #214 due to time out. Continuing to the next pipeline.\n",
      "Skipped pipeline #216 due to time out. Continuing to the next pipeline.\n",
      "Skipped pipeline #219 due to time out. Continuing to the next pipeline.\n",
      "Skipped pipeline #229 due to time out. Continuing to the next pipeline.\n",
      "Skipped pipeline #231 due to time out. Continuing to the next pipeline.\n",
      "Skipped pipeline #233 due to time out. Continuing to the next pipeline.\n",
      "Skipped pipeline #237 due to time out. Continuing to the next pipeline.\n",
      "Skipped pipeline #243 due to time out. Continuing to the next pipeline.\n",
      "Skipped pipeline #246 due to time out. Continuing to the next pipeline.\n",
      "\n",
      "Generation 1 - Current Pareto front scores:\n",
      "\n",
      "-1\t0.867660274479715\tExtraTreesClassifier(input_matrix, ExtraTreesClassifier__bootstrap=True, ExtraTreesClassifier__criterion=entropy, ExtraTreesClassifier__max_features=0.9500000000000001, ExtraTreesClassifier__min_samples_leaf=2, ExtraTreesClassifier__min_samples_split=2, ExtraTreesClassifier__n_estimators=100)\n",
      "_pre_test decorator: _mate_operator: num_test=0 Unsupported set of arguments: The combination of penalty='l1' and loss='squared_hinge' are not supported when dual=True, Parameters: penalty='l1', loss='squared_hinge', dual=True.\n",
      "_pre_test decorator: _random_mutation_operator: num_test=0 '(slice(None, None, None), 0)' is an invalid key.\n",
      "_pre_test decorator: _random_mutation_operator: num_test=0 Found array with 0 feature(s) (shape=(50, 0)) while a minimum of 1 is required..\n",
      "_pre_test decorator: _random_mutation_operator: num_test=1 Found array with 0 feature(s) (shape=(50, 0)) while a minimum of 1 is required..\n",
      "_pre_test decorator: _random_mutation_operator: num_test=0 Found array with 0 feature(s) (shape=(50, 0)) while a minimum of 1 is required..\n",
      "_pre_test decorator: _random_mutation_operator: num_test=0 '(slice(None, None, None), 0)' is an invalid key.\n",
      "_pre_test decorator: _random_mutation_operator: num_test=0 Cosine affinity cannot be used when X contains zero vectors.\n",
      "_pre_test decorator: _random_mutation_operator: num_test=0 '(slice(None, None, None), 0)' is an invalid key.\n",
      "_pre_test decorator: _random_mutation_operator: num_test=1 Negative values in data passed to MultinomialNB (input X).\n",
      "_pre_test decorator: _random_mutation_operator: num_test=0 cosine was provided as affinity. Ward can only work with euclidean distances..\n",
      "_pre_test decorator: _random_mutation_operator: num_test=1 Solver lbfgs supports only 'l2' or 'none' penalties, got l1 penalty..\n",
      "_pre_test decorator: _random_mutation_operator: num_test=0 X contains negative values..\n"
     ]
    },
    {
     "name": "stdout",
     "output_type": "stream",
     "text": [
      "_pre_test decorator: _random_mutation_operator: num_test=1 Found array with 0 feature(s) (shape=(50, 0)) while a minimum of 1 is required..\n",
      "_pre_test decorator: _random_mutation_operator: num_test=0 Solver lbfgs supports only 'l2' or 'none' penalties, got l1 penalty..\n",
      "_pre_test decorator: _random_mutation_operator: num_test=0 Unsupported set of arguments: The combination of penalty='l1' and loss='hinge' is not supported, Parameters: penalty='l1', loss='hinge', dual=False.\n",
      "_pre_test decorator: _random_mutation_operator: num_test=0 Found array with 0 feature(s) (shape=(50, 0)) while a minimum of 1 is required..\n",
      "_pre_test decorator: _random_mutation_operator: num_test=0 [22:59:06] /Users/runner/miniforge3/conda-bld/xgboost_1607604592557/work/src/learner.cc:567: Check failed: mparam_.num_feature != 0 (0 vs. 0) : 0 feature is supplied.  Are you using raw Booster interface?\n",
      "Stack trace:\n",
      "  [bt] (0) 1   libxgboost.dylib                    0x00000001253e923e dmlc::LogMessageFatal::~LogMessageFatal() + 110\n",
      "  [bt] (1) 2   libxgboost.dylib                    0x00000001254a4173 xgboost::LearnerConfiguration::ConfigureNumFeatures() + 963\n",
      "  [bt] (2) 3   libxgboost.dylib                    0x0000000125499d51 xgboost::LearnerConfiguration::Configure() + 1041\n",
      "  [bt] (3) 4   libxgboost.dylib                    0x000000012549a2e7 xgboost::LearnerImpl::UpdateOneIter(int, std::__1::shared_ptr<xgboost::DMatrix>) + 119\n",
      "  [bt] (4) 5   libxgboost.dylib                    0x00000001253ede5c XGBoosterUpdateOneIter + 156\n",
      "  [bt] (5) 6   libffi.6.dylib                      0x000000010a7b9934 ffi_call_unix64 + 76\n",
      "  [bt] (6) 7   ???                                 0x00007ffee607afb0 0x0 + 140732757684144\n",
      "\n",
      ".\n",
      "Pipeline encountered that has previously been evaluated during the optimization process. Using the score from the previous evaluation.\n",
      "Pipeline encountered that has previously been evaluated during the optimization process. Using the score from the previous evaluation.\n",
      "Pipeline encountered that has previously been evaluated during the optimization process. Using the score from the previous evaluation.\n",
      "Pipeline encountered that has previously been evaluated during the optimization process. Using the score from the previous evaluation.\n",
      "Skipped pipeline #265 due to time out. Continuing to the next pipeline.\n",
      "Skipped pipeline #272 due to time out. Continuing to the next pipeline.\n"
     ]
    }
   ],
   "source": [
    "\n",
    "#Generamos la instancia de entrenamiento\n",
    "start = time.time()\n",
    "\n",
    "tpot.fit(x_train, y_train)\n",
    "\n",
    "end = time.time()\n",
    "print(f\"Runtime of the program is {(end - start/60)} minutes\")\n"
   ]
  },
  {
   "cell_type": "code",
   "execution_count": null,
   "metadata": {
    "id": "gRBmbgiPD8w3"
   },
   "outputs": [],
   "source": [
    "#Generamos la instancia de predicciones\n",
    "pred=tpot.predict(df)"
   ]
  },
  {
   "cell_type": "code",
   "execution_count": null,
   "metadata": {
    "id": "9FyhaO5aEQSi"
   },
   "outputs": [],
   "source": [
    "#Evaluamos el desempeño\n",
    "tpot.score(x_test, y_test)\n"
   ]
  },
  {
   "cell_type": "code",
   "execution_count": null,
   "metadata": {
    "id": "cd8YcqjZEf7q"
   },
   "outputs": [],
   "source": [
    "from sklearn.metrics import confusion_matrix,precision_recall_curve,auc,roc_auc_score,roc_curve,recall_score,classification_report, plot_precision_recall_curve, average_precision_score\n",
    "print(confusion_matrix(target, pred))"
   ]
  },
  {
   "cell_type": "code",
   "execution_count": null,
   "metadata": {
    "id": "_lRZFLr2EwPa"
   },
   "outputs": [],
   "source": [
    "print(classification_report(target, pred))"
   ]
  },
  {
   "cell_type": "code",
   "execution_count": null,
   "metadata": {
    "id": "SOXakvjjFSEY"
   },
   "outputs": [],
   "source": [
    "#Precision Recall curve\n",
    "average_precision = average_precision_score(y_test, y_score)\n",
    "disp = plot_precision_recall_curve(tpot, X_test, y_test)\n",
    "disp.ax_.set_title('2-class Precision-Recall curve: '\n",
    "                   'AP={0:0.2f}'.format(average_precision))"
   ]
  },
  {
   "cell_type": "code",
   "execution_count": null,
   "metadata": {
    "id": "HBGusF2AJnbn"
   },
   "outputs": [],
   "source": []
  },
  {
   "cell_type": "code",
   "execution_count": null,
   "metadata": {
    "id": "h04z5mOz5n_d"
   },
   "outputs": [],
   "source": []
  }
 ],
 "metadata": {
  "colab": {
   "collapsed_sections": [],
   "name": "Detección_del_fraude_con_TPOT.ipynb",
   "provenance": []
  },
  "kernelspec": {
   "display_name": "Python 3",
   "language": "python",
   "name": "python3"
  },
  "language_info": {
   "codemirror_mode": {
    "name": "ipython",
    "version": 3
   },
   "file_extension": ".py",
   "mimetype": "text/x-python",
   "name": "python",
   "nbconvert_exporter": "python",
   "pygments_lexer": "ipython3",
   "version": "3.8.2"
  },
  "widgets": {
   "application/vnd.jupyter.widget-state+json": {
    "663f65276ff64eed981c7fb64b94c38a": {
     "model_module": "@jupyter-widgets/controls",
     "model_name": "FloatProgressModel",
     "state": {
      "_dom_classes": [],
      "_model_module": "@jupyter-widgets/controls",
      "_model_module_version": "1.5.0",
      "_model_name": "FloatProgressModel",
      "_view_count": null,
      "_view_module": "@jupyter-widgets/controls",
      "_view_module_version": "1.5.0",
      "_view_name": "ProgressView",
      "bar_style": "",
      "description": "Optimization Progress:  72%",
      "description_tooltip": null,
      "layout": "IPY_MODEL_f97773e2d47a4f3eb73a62d9f3352713",
      "max": 600,
      "min": 0,
      "orientation": "horizontal",
      "style": "IPY_MODEL_96ea7776df5e411ca200fa02af043b40",
      "value": 435
     }
    },
    "7914a2bfd9b64f98be164697d5366df0": {
     "model_module": "@jupyter-widgets/controls",
     "model_name": "HTMLModel",
     "state": {
      "_dom_classes": [],
      "_model_module": "@jupyter-widgets/controls",
      "_model_module_version": "1.5.0",
      "_model_name": "HTMLModel",
      "_view_count": null,
      "_view_module": "@jupyter-widgets/controls",
      "_view_module_version": "1.5.0",
      "_view_name": "HTMLView",
      "description": "",
      "description_tooltip": null,
      "layout": "IPY_MODEL_d93c52b338f3438b8c64c85b039a3481",
      "placeholder": "​",
      "style": "IPY_MODEL_cca52f2cf17d4006a5b06ac17eb38ca3",
      "value": " 435/600 [6:11:03&lt;8:01:49, 175.21s/pipeline]"
     }
    },
    "94a155f25da1482d8e44e0605cf4d245": {
     "model_module": "@jupyter-widgets/controls",
     "model_name": "HBoxModel",
     "state": {
      "_dom_classes": [],
      "_model_module": "@jupyter-widgets/controls",
      "_model_module_version": "1.5.0",
      "_model_name": "HBoxModel",
      "_view_count": null,
      "_view_module": "@jupyter-widgets/controls",
      "_view_module_version": "1.5.0",
      "_view_name": "HBoxView",
      "box_style": "",
      "children": [
       "IPY_MODEL_663f65276ff64eed981c7fb64b94c38a",
       "IPY_MODEL_7914a2bfd9b64f98be164697d5366df0"
      ],
      "layout": "IPY_MODEL_b5f29321d0734f16ba8ff48187b07ae0"
     }
    },
    "96ea7776df5e411ca200fa02af043b40": {
     "model_module": "@jupyter-widgets/controls",
     "model_name": "ProgressStyleModel",
     "state": {
      "_model_module": "@jupyter-widgets/controls",
      "_model_module_version": "1.5.0",
      "_model_name": "ProgressStyleModel",
      "_view_count": null,
      "_view_module": "@jupyter-widgets/base",
      "_view_module_version": "1.2.0",
      "_view_name": "StyleView",
      "bar_color": null,
      "description_width": "initial"
     }
    },
    "b5f29321d0734f16ba8ff48187b07ae0": {
     "model_module": "@jupyter-widgets/base",
     "model_name": "LayoutModel",
     "state": {
      "_model_module": "@jupyter-widgets/base",
      "_model_module_version": "1.2.0",
      "_model_name": "LayoutModel",
      "_view_count": null,
      "_view_module": "@jupyter-widgets/base",
      "_view_module_version": "1.2.0",
      "_view_name": "LayoutView",
      "align_content": null,
      "align_items": null,
      "align_self": null,
      "border": null,
      "bottom": null,
      "display": null,
      "flex": null,
      "flex_flow": null,
      "grid_area": null,
      "grid_auto_columns": null,
      "grid_auto_flow": null,
      "grid_auto_rows": null,
      "grid_column": null,
      "grid_gap": null,
      "grid_row": null,
      "grid_template_areas": null,
      "grid_template_columns": null,
      "grid_template_rows": null,
      "height": null,
      "justify_content": null,
      "justify_items": null,
      "left": null,
      "margin": null,
      "max_height": null,
      "max_width": null,
      "min_height": null,
      "min_width": null,
      "object_fit": null,
      "object_position": null,
      "order": null,
      "overflow": null,
      "overflow_x": null,
      "overflow_y": null,
      "padding": null,
      "right": null,
      "top": null,
      "visibility": null,
      "width": null
     }
    },
    "cca52f2cf17d4006a5b06ac17eb38ca3": {
     "model_module": "@jupyter-widgets/controls",
     "model_name": "DescriptionStyleModel",
     "state": {
      "_model_module": "@jupyter-widgets/controls",
      "_model_module_version": "1.5.0",
      "_model_name": "DescriptionStyleModel",
      "_view_count": null,
      "_view_module": "@jupyter-widgets/base",
      "_view_module_version": "1.2.0",
      "_view_name": "StyleView",
      "description_width": ""
     }
    },
    "d93c52b338f3438b8c64c85b039a3481": {
     "model_module": "@jupyter-widgets/base",
     "model_name": "LayoutModel",
     "state": {
      "_model_module": "@jupyter-widgets/base",
      "_model_module_version": "1.2.0",
      "_model_name": "LayoutModel",
      "_view_count": null,
      "_view_module": "@jupyter-widgets/base",
      "_view_module_version": "1.2.0",
      "_view_name": "LayoutView",
      "align_content": null,
      "align_items": null,
      "align_self": null,
      "border": null,
      "bottom": null,
      "display": null,
      "flex": null,
      "flex_flow": null,
      "grid_area": null,
      "grid_auto_columns": null,
      "grid_auto_flow": null,
      "grid_auto_rows": null,
      "grid_column": null,
      "grid_gap": null,
      "grid_row": null,
      "grid_template_areas": null,
      "grid_template_columns": null,
      "grid_template_rows": null,
      "height": null,
      "justify_content": null,
      "justify_items": null,
      "left": null,
      "margin": null,
      "max_height": null,
      "max_width": null,
      "min_height": null,
      "min_width": null,
      "object_fit": null,
      "object_position": null,
      "order": null,
      "overflow": null,
      "overflow_x": null,
      "overflow_y": null,
      "padding": null,
      "right": null,
      "top": null,
      "visibility": null,
      "width": null
     }
    },
    "f97773e2d47a4f3eb73a62d9f3352713": {
     "model_module": "@jupyter-widgets/base",
     "model_name": "LayoutModel",
     "state": {
      "_model_module": "@jupyter-widgets/base",
      "_model_module_version": "1.2.0",
      "_model_name": "LayoutModel",
      "_view_count": null,
      "_view_module": "@jupyter-widgets/base",
      "_view_module_version": "1.2.0",
      "_view_name": "LayoutView",
      "align_content": null,
      "align_items": null,
      "align_self": null,
      "border": null,
      "bottom": null,
      "display": null,
      "flex": null,
      "flex_flow": null,
      "grid_area": null,
      "grid_auto_columns": null,
      "grid_auto_flow": null,
      "grid_auto_rows": null,
      "grid_column": null,
      "grid_gap": null,
      "grid_row": null,
      "grid_template_areas": null,
      "grid_template_columns": null,
      "grid_template_rows": null,
      "height": null,
      "justify_content": null,
      "justify_items": null,
      "left": null,
      "margin": null,
      "max_height": null,
      "max_width": null,
      "min_height": null,
      "min_width": null,
      "object_fit": null,
      "object_position": null,
      "order": null,
      "overflow": null,
      "overflow_x": null,
      "overflow_y": null,
      "padding": null,
      "right": null,
      "top": null,
      "visibility": null,
      "width": null
     }
    }
   }
  }
 },
 "nbformat": 4,
 "nbformat_minor": 1
}
